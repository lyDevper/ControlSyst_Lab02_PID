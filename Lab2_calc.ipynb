{
 "cells": [
  {
   "cell_type": "code",
   "execution_count": 2,
   "metadata": {},
   "outputs": [
    {
     "name": "stdout",
     "output_type": "stream",
     "text": [
      "Jp: 0.0005000000000000001\n",
      "Jtotal: 0.0005220000000000001\n"
     ]
    }
   ],
   "source": [
    "# Pendulum Parameters\n",
    "L = 0.1     # [m] (massless link)\n",
    "mp = 0.05   # [kg] (point mass)\n",
    "g = 9.81    # [m/s^2]\n",
    "\n",
    "# Motor Parameters (values from lab1)\n",
    "kt = 0.05630\n",
    "ke = 0.057961\n",
    "Lm = 2.996e-3\n",
    "R = 2.556\n",
    "b = 3.93e-5\n",
    "J = 2.20e-5\n",
    "\n",
    "# Calculating Inertia\n",
    "Jm = J\n",
    "Jp = mp * L**2  # Pendulum inertia (mp * L^2)\n",
    "Jtotal = Jm + Jp\n",
    "\n",
    "print(\"Jp:\", Jp)\n",
    "print(\"Jtotal:\", Jtotal)\n"
   ]
  },
  {
   "cell_type": "code",
   "execution_count": null,
   "metadata": {},
   "outputs": [],
   "source": []
  },
  {
   "cell_type": "code",
   "execution_count": null,
   "metadata": {},
   "outputs": [],
   "source": []
  }
 ],
 "metadata": {
  "kernelspec": {
   "display_name": "comprog_enc",
   "language": "python",
   "name": "python3"
  },
  "language_info": {
   "codemirror_mode": {
    "name": "ipython",
    "version": 3
   },
   "file_extension": ".py",
   "mimetype": "text/x-python",
   "name": "python",
   "nbconvert_exporter": "python",
   "pygments_lexer": "ipython3",
   "version": "3.8.11"
  }
 },
 "nbformat": 4,
 "nbformat_minor": 2
}
